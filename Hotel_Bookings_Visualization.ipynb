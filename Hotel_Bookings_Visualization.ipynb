{
 "cells": [
  {
   "cell_type": "markdown",
   "id": "1102b579",
   "metadata": {},
   "source": [
    "# Hotel Bookings Demand visualization"
   ]
  },
  {
   "cell_type": "code",
   "execution_count": 315,
   "id": "8fa7f2b7",
   "metadata": {},
   "outputs": [],
   "source": [
    "import pandas as pd\n",
    "import numpy as np\n",
    "import matplotlib\n",
    "import matplotlib.pyplot as plt\n",
    "import seaborn as sns\n",
    "# import missingno as msn\n",
    "\n",
    "%matplotlib inline\n",
    "sns.set_style('darkgrid')\n",
    "matplotlib.rcParams[\"font.size\"] = 14\n",
    "matplotlib.rcParams[\"figure.figsize\"] = (9, 5)\n",
    "matplotlib.rcParams[\"figure.facecolor\"] = \"#00000000\""
   ]
  },
  {
   "cell_type": "code",
   "execution_count": 316,
   "id": "892ec28c",
   "metadata": {},
   "outputs": [
    {
     "data": {
      "text/html": [
       "<div>\n",
       "<style scoped>\n",
       "    .dataframe tbody tr th:only-of-type {\n",
       "        vertical-align: middle;\n",
       "    }\n",
       "\n",
       "    .dataframe tbody tr th {\n",
       "        vertical-align: top;\n",
       "    }\n",
       "\n",
       "    .dataframe thead th {\n",
       "        text-align: right;\n",
       "    }\n",
       "</style>\n",
       "<table border=\"1\" class=\"dataframe\">\n",
       "  <thead>\n",
       "    <tr style=\"text-align: right;\">\n",
       "      <th></th>\n",
       "      <th>0</th>\n",
       "      <th>1</th>\n",
       "      <th>2</th>\n",
       "      <th>3</th>\n",
       "      <th>4</th>\n",
       "      <th>5</th>\n",
       "      <th>6</th>\n",
       "      <th>7</th>\n",
       "      <th>8</th>\n",
       "      <th>9</th>\n",
       "      <th>...</th>\n",
       "      <th>119380</th>\n",
       "      <th>119381</th>\n",
       "      <th>119382</th>\n",
       "      <th>119383</th>\n",
       "      <th>119384</th>\n",
       "      <th>119385</th>\n",
       "      <th>119386</th>\n",
       "      <th>119387</th>\n",
       "      <th>119388</th>\n",
       "      <th>119389</th>\n",
       "    </tr>\n",
       "  </thead>\n",
       "  <tbody>\n",
       "    <tr>\n",
       "      <th>hotel</th>\n",
       "      <td>Resort Hotel</td>\n",
       "      <td>Resort Hotel</td>\n",
       "      <td>Resort Hotel</td>\n",
       "      <td>Resort Hotel</td>\n",
       "      <td>Resort Hotel</td>\n",
       "      <td>Resort Hotel</td>\n",
       "      <td>Resort Hotel</td>\n",
       "      <td>Resort Hotel</td>\n",
       "      <td>Resort Hotel</td>\n",
       "      <td>Resort Hotel</td>\n",
       "      <td>...</td>\n",
       "      <td>City Hotel</td>\n",
       "      <td>City Hotel</td>\n",
       "      <td>City Hotel</td>\n",
       "      <td>City Hotel</td>\n",
       "      <td>City Hotel</td>\n",
       "      <td>City Hotel</td>\n",
       "      <td>City Hotel</td>\n",
       "      <td>City Hotel</td>\n",
       "      <td>City Hotel</td>\n",
       "      <td>City Hotel</td>\n",
       "    </tr>\n",
       "    <tr>\n",
       "      <th>is_canceled</th>\n",
       "      <td>0</td>\n",
       "      <td>0</td>\n",
       "      <td>0</td>\n",
       "      <td>0</td>\n",
       "      <td>0</td>\n",
       "      <td>0</td>\n",
       "      <td>0</td>\n",
       "      <td>0</td>\n",
       "      <td>1</td>\n",
       "      <td>1</td>\n",
       "      <td>...</td>\n",
       "      <td>0</td>\n",
       "      <td>0</td>\n",
       "      <td>0</td>\n",
       "      <td>0</td>\n",
       "      <td>0</td>\n",
       "      <td>0</td>\n",
       "      <td>0</td>\n",
       "      <td>0</td>\n",
       "      <td>0</td>\n",
       "      <td>0</td>\n",
       "    </tr>\n",
       "    <tr>\n",
       "      <th>lead_time</th>\n",
       "      <td>342</td>\n",
       "      <td>737</td>\n",
       "      <td>7</td>\n",
       "      <td>13</td>\n",
       "      <td>14</td>\n",
       "      <td>14</td>\n",
       "      <td>0</td>\n",
       "      <td>9</td>\n",
       "      <td>85</td>\n",
       "      <td>75</td>\n",
       "      <td>...</td>\n",
       "      <td>44</td>\n",
       "      <td>188</td>\n",
       "      <td>135</td>\n",
       "      <td>164</td>\n",
       "      <td>21</td>\n",
       "      <td>23</td>\n",
       "      <td>102</td>\n",
       "      <td>34</td>\n",
       "      <td>109</td>\n",
       "      <td>205</td>\n",
       "    </tr>\n",
       "    <tr>\n",
       "      <th>arrival_date_year</th>\n",
       "      <td>2015</td>\n",
       "      <td>2015</td>\n",
       "      <td>2015</td>\n",
       "      <td>2015</td>\n",
       "      <td>2015</td>\n",
       "      <td>2015</td>\n",
       "      <td>2015</td>\n",
       "      <td>2015</td>\n",
       "      <td>2015</td>\n",
       "      <td>2015</td>\n",
       "      <td>...</td>\n",
       "      <td>2017</td>\n",
       "      <td>2017</td>\n",
       "      <td>2017</td>\n",
       "      <td>2017</td>\n",
       "      <td>2017</td>\n",
       "      <td>2017</td>\n",
       "      <td>2017</td>\n",
       "      <td>2017</td>\n",
       "      <td>2017</td>\n",
       "      <td>2017</td>\n",
       "    </tr>\n",
       "    <tr>\n",
       "      <th>arrival_date_month</th>\n",
       "      <td>July</td>\n",
       "      <td>July</td>\n",
       "      <td>July</td>\n",
       "      <td>July</td>\n",
       "      <td>July</td>\n",
       "      <td>July</td>\n",
       "      <td>July</td>\n",
       "      <td>July</td>\n",
       "      <td>July</td>\n",
       "      <td>July</td>\n",
       "      <td>...</td>\n",
       "      <td>August</td>\n",
       "      <td>August</td>\n",
       "      <td>August</td>\n",
       "      <td>August</td>\n",
       "      <td>August</td>\n",
       "      <td>August</td>\n",
       "      <td>August</td>\n",
       "      <td>August</td>\n",
       "      <td>August</td>\n",
       "      <td>August</td>\n",
       "    </tr>\n",
       "    <tr>\n",
       "      <th>arrival_date_week_number</th>\n",
       "      <td>27</td>\n",
       "      <td>27</td>\n",
       "      <td>27</td>\n",
       "      <td>27</td>\n",
       "      <td>27</td>\n",
       "      <td>27</td>\n",
       "      <td>27</td>\n",
       "      <td>27</td>\n",
       "      <td>27</td>\n",
       "      <td>27</td>\n",
       "      <td>...</td>\n",
       "      <td>35</td>\n",
       "      <td>35</td>\n",
       "      <td>35</td>\n",
       "      <td>35</td>\n",
       "      <td>35</td>\n",
       "      <td>35</td>\n",
       "      <td>35</td>\n",
       "      <td>35</td>\n",
       "      <td>35</td>\n",
       "      <td>35</td>\n",
       "    </tr>\n",
       "    <tr>\n",
       "      <th>arrival_date_day_of_month</th>\n",
       "      <td>1</td>\n",
       "      <td>1</td>\n",
       "      <td>1</td>\n",
       "      <td>1</td>\n",
       "      <td>1</td>\n",
       "      <td>1</td>\n",
       "      <td>1</td>\n",
       "      <td>1</td>\n",
       "      <td>1</td>\n",
       "      <td>1</td>\n",
       "      <td>...</td>\n",
       "      <td>31</td>\n",
       "      <td>31</td>\n",
       "      <td>30</td>\n",
       "      <td>31</td>\n",
       "      <td>30</td>\n",
       "      <td>30</td>\n",
       "      <td>31</td>\n",
       "      <td>31</td>\n",
       "      <td>31</td>\n",
       "      <td>29</td>\n",
       "    </tr>\n",
       "    <tr>\n",
       "      <th>stays_in_weekend_nights</th>\n",
       "      <td>0</td>\n",
       "      <td>0</td>\n",
       "      <td>0</td>\n",
       "      <td>0</td>\n",
       "      <td>0</td>\n",
       "      <td>0</td>\n",
       "      <td>0</td>\n",
       "      <td>0</td>\n",
       "      <td>0</td>\n",
       "      <td>0</td>\n",
       "      <td>...</td>\n",
       "      <td>1</td>\n",
       "      <td>2</td>\n",
       "      <td>2</td>\n",
       "      <td>2</td>\n",
       "      <td>2</td>\n",
       "      <td>2</td>\n",
       "      <td>2</td>\n",
       "      <td>2</td>\n",
       "      <td>2</td>\n",
       "      <td>2</td>\n",
       "    </tr>\n",
       "    <tr>\n",
       "      <th>stays_in_week_nights</th>\n",
       "      <td>0</td>\n",
       "      <td>0</td>\n",
       "      <td>1</td>\n",
       "      <td>1</td>\n",
       "      <td>2</td>\n",
       "      <td>2</td>\n",
       "      <td>2</td>\n",
       "      <td>2</td>\n",
       "      <td>3</td>\n",
       "      <td>3</td>\n",
       "      <td>...</td>\n",
       "      <td>3</td>\n",
       "      <td>3</td>\n",
       "      <td>4</td>\n",
       "      <td>4</td>\n",
       "      <td>5</td>\n",
       "      <td>5</td>\n",
       "      <td>5</td>\n",
       "      <td>5</td>\n",
       "      <td>5</td>\n",
       "      <td>7</td>\n",
       "    </tr>\n",
       "    <tr>\n",
       "      <th>adults</th>\n",
       "      <td>2</td>\n",
       "      <td>2</td>\n",
       "      <td>1</td>\n",
       "      <td>1</td>\n",
       "      <td>2</td>\n",
       "      <td>2</td>\n",
       "      <td>2</td>\n",
       "      <td>2</td>\n",
       "      <td>2</td>\n",
       "      <td>2</td>\n",
       "      <td>...</td>\n",
       "      <td>2</td>\n",
       "      <td>2</td>\n",
       "      <td>3</td>\n",
       "      <td>2</td>\n",
       "      <td>2</td>\n",
       "      <td>2</td>\n",
       "      <td>3</td>\n",
       "      <td>2</td>\n",
       "      <td>2</td>\n",
       "      <td>2</td>\n",
       "    </tr>\n",
       "    <tr>\n",
       "      <th>children</th>\n",
       "      <td>0.0</td>\n",
       "      <td>0.0</td>\n",
       "      <td>0.0</td>\n",
       "      <td>0.0</td>\n",
       "      <td>0.0</td>\n",
       "      <td>0.0</td>\n",
       "      <td>0.0</td>\n",
       "      <td>0.0</td>\n",
       "      <td>0.0</td>\n",
       "      <td>0.0</td>\n",
       "      <td>...</td>\n",
       "      <td>0.0</td>\n",
       "      <td>0.0</td>\n",
       "      <td>0.0</td>\n",
       "      <td>0.0</td>\n",
       "      <td>0.0</td>\n",
       "      <td>0.0</td>\n",
       "      <td>0.0</td>\n",
       "      <td>0.0</td>\n",
       "      <td>0.0</td>\n",
       "      <td>0.0</td>\n",
       "    </tr>\n",
       "    <tr>\n",
       "      <th>babies</th>\n",
       "      <td>0</td>\n",
       "      <td>0</td>\n",
       "      <td>0</td>\n",
       "      <td>0</td>\n",
       "      <td>0</td>\n",
       "      <td>0</td>\n",
       "      <td>0</td>\n",
       "      <td>0</td>\n",
       "      <td>0</td>\n",
       "      <td>0</td>\n",
       "      <td>...</td>\n",
       "      <td>0</td>\n",
       "      <td>0</td>\n",
       "      <td>0</td>\n",
       "      <td>0</td>\n",
       "      <td>0</td>\n",
       "      <td>0</td>\n",
       "      <td>0</td>\n",
       "      <td>0</td>\n",
       "      <td>0</td>\n",
       "      <td>0</td>\n",
       "    </tr>\n",
       "    <tr>\n",
       "      <th>meal</th>\n",
       "      <td>BB</td>\n",
       "      <td>BB</td>\n",
       "      <td>BB</td>\n",
       "      <td>BB</td>\n",
       "      <td>BB</td>\n",
       "      <td>BB</td>\n",
       "      <td>BB</td>\n",
       "      <td>FB</td>\n",
       "      <td>BB</td>\n",
       "      <td>HB</td>\n",
       "      <td>...</td>\n",
       "      <td>SC</td>\n",
       "      <td>BB</td>\n",
       "      <td>BB</td>\n",
       "      <td>BB</td>\n",
       "      <td>BB</td>\n",
       "      <td>BB</td>\n",
       "      <td>BB</td>\n",
       "      <td>BB</td>\n",
       "      <td>BB</td>\n",
       "      <td>HB</td>\n",
       "    </tr>\n",
       "    <tr>\n",
       "      <th>country</th>\n",
       "      <td>PRT</td>\n",
       "      <td>PRT</td>\n",
       "      <td>GBR</td>\n",
       "      <td>GBR</td>\n",
       "      <td>GBR</td>\n",
       "      <td>GBR</td>\n",
       "      <td>PRT</td>\n",
       "      <td>PRT</td>\n",
       "      <td>PRT</td>\n",
       "      <td>PRT</td>\n",
       "      <td>...</td>\n",
       "      <td>DEU</td>\n",
       "      <td>DEU</td>\n",
       "      <td>JPN</td>\n",
       "      <td>DEU</td>\n",
       "      <td>BEL</td>\n",
       "      <td>BEL</td>\n",
       "      <td>FRA</td>\n",
       "      <td>DEU</td>\n",
       "      <td>GBR</td>\n",
       "      <td>DEU</td>\n",
       "    </tr>\n",
       "    <tr>\n",
       "      <th>market_segment</th>\n",
       "      <td>Direct</td>\n",
       "      <td>Direct</td>\n",
       "      <td>Direct</td>\n",
       "      <td>Corporate</td>\n",
       "      <td>Online TA</td>\n",
       "      <td>Online TA</td>\n",
       "      <td>Direct</td>\n",
       "      <td>Direct</td>\n",
       "      <td>Online TA</td>\n",
       "      <td>Offline TA/TO</td>\n",
       "      <td>...</td>\n",
       "      <td>Online TA</td>\n",
       "      <td>Direct</td>\n",
       "      <td>Online TA</td>\n",
       "      <td>Offline TA/TO</td>\n",
       "      <td>Offline TA/TO</td>\n",
       "      <td>Offline TA/TO</td>\n",
       "      <td>Online TA</td>\n",
       "      <td>Online TA</td>\n",
       "      <td>Online TA</td>\n",
       "      <td>Online TA</td>\n",
       "    </tr>\n",
       "    <tr>\n",
       "      <th>distribution_channel</th>\n",
       "      <td>Direct</td>\n",
       "      <td>Direct</td>\n",
       "      <td>Direct</td>\n",
       "      <td>Corporate</td>\n",
       "      <td>TA/TO</td>\n",
       "      <td>TA/TO</td>\n",
       "      <td>Direct</td>\n",
       "      <td>Direct</td>\n",
       "      <td>TA/TO</td>\n",
       "      <td>TA/TO</td>\n",
       "      <td>...</td>\n",
       "      <td>TA/TO</td>\n",
       "      <td>Direct</td>\n",
       "      <td>TA/TO</td>\n",
       "      <td>TA/TO</td>\n",
       "      <td>TA/TO</td>\n",
       "      <td>TA/TO</td>\n",
       "      <td>TA/TO</td>\n",
       "      <td>TA/TO</td>\n",
       "      <td>TA/TO</td>\n",
       "      <td>TA/TO</td>\n",
       "    </tr>\n",
       "    <tr>\n",
       "      <th>is_repeated_guest</th>\n",
       "      <td>0</td>\n",
       "      <td>0</td>\n",
       "      <td>0</td>\n",
       "      <td>0</td>\n",
       "      <td>0</td>\n",
       "      <td>0</td>\n",
       "      <td>0</td>\n",
       "      <td>0</td>\n",
       "      <td>0</td>\n",
       "      <td>0</td>\n",
       "      <td>...</td>\n",
       "      <td>0</td>\n",
       "      <td>0</td>\n",
       "      <td>0</td>\n",
       "      <td>0</td>\n",
       "      <td>0</td>\n",
       "      <td>0</td>\n",
       "      <td>0</td>\n",
       "      <td>0</td>\n",
       "      <td>0</td>\n",
       "      <td>0</td>\n",
       "    </tr>\n",
       "    <tr>\n",
       "      <th>previous_cancellations</th>\n",
       "      <td>0</td>\n",
       "      <td>0</td>\n",
       "      <td>0</td>\n",
       "      <td>0</td>\n",
       "      <td>0</td>\n",
       "      <td>0</td>\n",
       "      <td>0</td>\n",
       "      <td>0</td>\n",
       "      <td>0</td>\n",
       "      <td>0</td>\n",
       "      <td>...</td>\n",
       "      <td>0</td>\n",
       "      <td>0</td>\n",
       "      <td>0</td>\n",
       "      <td>0</td>\n",
       "      <td>0</td>\n",
       "      <td>0</td>\n",
       "      <td>0</td>\n",
       "      <td>0</td>\n",
       "      <td>0</td>\n",
       "      <td>0</td>\n",
       "    </tr>\n",
       "    <tr>\n",
       "      <th>previous_bookings_not_canceled</th>\n",
       "      <td>0</td>\n",
       "      <td>0</td>\n",
       "      <td>0</td>\n",
       "      <td>0</td>\n",
       "      <td>0</td>\n",
       "      <td>0</td>\n",
       "      <td>0</td>\n",
       "      <td>0</td>\n",
       "      <td>0</td>\n",
       "      <td>0</td>\n",
       "      <td>...</td>\n",
       "      <td>0</td>\n",
       "      <td>0</td>\n",
       "      <td>0</td>\n",
       "      <td>0</td>\n",
       "      <td>0</td>\n",
       "      <td>0</td>\n",
       "      <td>0</td>\n",
       "      <td>0</td>\n",
       "      <td>0</td>\n",
       "      <td>0</td>\n",
       "    </tr>\n",
       "    <tr>\n",
       "      <th>reserved_room_type</th>\n",
       "      <td>C</td>\n",
       "      <td>C</td>\n",
       "      <td>A</td>\n",
       "      <td>A</td>\n",
       "      <td>A</td>\n",
       "      <td>A</td>\n",
       "      <td>C</td>\n",
       "      <td>C</td>\n",
       "      <td>A</td>\n",
       "      <td>D</td>\n",
       "      <td>...</td>\n",
       "      <td>A</td>\n",
       "      <td>A</td>\n",
       "      <td>G</td>\n",
       "      <td>A</td>\n",
       "      <td>A</td>\n",
       "      <td>A</td>\n",
       "      <td>E</td>\n",
       "      <td>D</td>\n",
       "      <td>A</td>\n",
       "      <td>A</td>\n",
       "    </tr>\n",
       "    <tr>\n",
       "      <th>assigned_room_type</th>\n",
       "      <td>C</td>\n",
       "      <td>C</td>\n",
       "      <td>C</td>\n",
       "      <td>A</td>\n",
       "      <td>A</td>\n",
       "      <td>A</td>\n",
       "      <td>C</td>\n",
       "      <td>C</td>\n",
       "      <td>A</td>\n",
       "      <td>D</td>\n",
       "      <td>...</td>\n",
       "      <td>A</td>\n",
       "      <td>A</td>\n",
       "      <td>G</td>\n",
       "      <td>A</td>\n",
       "      <td>A</td>\n",
       "      <td>A</td>\n",
       "      <td>E</td>\n",
       "      <td>D</td>\n",
       "      <td>A</td>\n",
       "      <td>A</td>\n",
       "    </tr>\n",
       "    <tr>\n",
       "      <th>booking_changes</th>\n",
       "      <td>3</td>\n",
       "      <td>4</td>\n",
       "      <td>0</td>\n",
       "      <td>0</td>\n",
       "      <td>0</td>\n",
       "      <td>0</td>\n",
       "      <td>0</td>\n",
       "      <td>0</td>\n",
       "      <td>0</td>\n",
       "      <td>0</td>\n",
       "      <td>...</td>\n",
       "      <td>0</td>\n",
       "      <td>0</td>\n",
       "      <td>0</td>\n",
       "      <td>0</td>\n",
       "      <td>0</td>\n",
       "      <td>0</td>\n",
       "      <td>0</td>\n",
       "      <td>0</td>\n",
       "      <td>0</td>\n",
       "      <td>0</td>\n",
       "    </tr>\n",
       "    <tr>\n",
       "      <th>deposit_type</th>\n",
       "      <td>No Deposit</td>\n",
       "      <td>No Deposit</td>\n",
       "      <td>No Deposit</td>\n",
       "      <td>No Deposit</td>\n",
       "      <td>No Deposit</td>\n",
       "      <td>No Deposit</td>\n",
       "      <td>No Deposit</td>\n",
       "      <td>No Deposit</td>\n",
       "      <td>No Deposit</td>\n",
       "      <td>No Deposit</td>\n",
       "      <td>...</td>\n",
       "      <td>No Deposit</td>\n",
       "      <td>No Deposit</td>\n",
       "      <td>No Deposit</td>\n",
       "      <td>No Deposit</td>\n",
       "      <td>No Deposit</td>\n",
       "      <td>No Deposit</td>\n",
       "      <td>No Deposit</td>\n",
       "      <td>No Deposit</td>\n",
       "      <td>No Deposit</td>\n",
       "      <td>No Deposit</td>\n",
       "    </tr>\n",
       "    <tr>\n",
       "      <th>agent</th>\n",
       "      <td>NaN</td>\n",
       "      <td>NaN</td>\n",
       "      <td>NaN</td>\n",
       "      <td>304.0</td>\n",
       "      <td>240.0</td>\n",
       "      <td>240.0</td>\n",
       "      <td>NaN</td>\n",
       "      <td>303.0</td>\n",
       "      <td>240.0</td>\n",
       "      <td>15.0</td>\n",
       "      <td>...</td>\n",
       "      <td>9.0</td>\n",
       "      <td>14.0</td>\n",
       "      <td>7.0</td>\n",
       "      <td>42.0</td>\n",
       "      <td>394.0</td>\n",
       "      <td>394.0</td>\n",
       "      <td>9.0</td>\n",
       "      <td>9.0</td>\n",
       "      <td>89.0</td>\n",
       "      <td>9.0</td>\n",
       "    </tr>\n",
       "    <tr>\n",
       "      <th>company</th>\n",
       "      <td>NaN</td>\n",
       "      <td>NaN</td>\n",
       "      <td>NaN</td>\n",
       "      <td>NaN</td>\n",
       "      <td>NaN</td>\n",
       "      <td>NaN</td>\n",
       "      <td>NaN</td>\n",
       "      <td>NaN</td>\n",
       "      <td>NaN</td>\n",
       "      <td>NaN</td>\n",
       "      <td>...</td>\n",
       "      <td>NaN</td>\n",
       "      <td>NaN</td>\n",
       "      <td>NaN</td>\n",
       "      <td>NaN</td>\n",
       "      <td>NaN</td>\n",
       "      <td>NaN</td>\n",
       "      <td>NaN</td>\n",
       "      <td>NaN</td>\n",
       "      <td>NaN</td>\n",
       "      <td>NaN</td>\n",
       "    </tr>\n",
       "    <tr>\n",
       "      <th>days_in_waiting_list</th>\n",
       "      <td>0</td>\n",
       "      <td>0</td>\n",
       "      <td>0</td>\n",
       "      <td>0</td>\n",
       "      <td>0</td>\n",
       "      <td>0</td>\n",
       "      <td>0</td>\n",
       "      <td>0</td>\n",
       "      <td>0</td>\n",
       "      <td>0</td>\n",
       "      <td>...</td>\n",
       "      <td>0</td>\n",
       "      <td>0</td>\n",
       "      <td>0</td>\n",
       "      <td>0</td>\n",
       "      <td>0</td>\n",
       "      <td>0</td>\n",
       "      <td>0</td>\n",
       "      <td>0</td>\n",
       "      <td>0</td>\n",
       "      <td>0</td>\n",
       "    </tr>\n",
       "    <tr>\n",
       "      <th>customer_type</th>\n",
       "      <td>Transient</td>\n",
       "      <td>Transient</td>\n",
       "      <td>Transient</td>\n",
       "      <td>Transient</td>\n",
       "      <td>Transient</td>\n",
       "      <td>Transient</td>\n",
       "      <td>Transient</td>\n",
       "      <td>Transient</td>\n",
       "      <td>Transient</td>\n",
       "      <td>Transient</td>\n",
       "      <td>...</td>\n",
       "      <td>Transient</td>\n",
       "      <td>Transient</td>\n",
       "      <td>Transient</td>\n",
       "      <td>Transient</td>\n",
       "      <td>Transient</td>\n",
       "      <td>Transient</td>\n",
       "      <td>Transient</td>\n",
       "      <td>Transient</td>\n",
       "      <td>Transient</td>\n",
       "      <td>Transient</td>\n",
       "    </tr>\n",
       "    <tr>\n",
       "      <th>adr</th>\n",
       "      <td>0.0</td>\n",
       "      <td>0.0</td>\n",
       "      <td>75.0</td>\n",
       "      <td>75.0</td>\n",
       "      <td>98.0</td>\n",
       "      <td>98.0</td>\n",
       "      <td>107.0</td>\n",
       "      <td>103.0</td>\n",
       "      <td>82.0</td>\n",
       "      <td>105.5</td>\n",
       "      <td>...</td>\n",
       "      <td>140.75</td>\n",
       "      <td>99.0</td>\n",
       "      <td>209.0</td>\n",
       "      <td>87.6</td>\n",
       "      <td>96.14</td>\n",
       "      <td>96.14</td>\n",
       "      <td>225.43</td>\n",
       "      <td>157.71</td>\n",
       "      <td>104.4</td>\n",
       "      <td>151.2</td>\n",
       "    </tr>\n",
       "    <tr>\n",
       "      <th>required_car_parking_spaces</th>\n",
       "      <td>0</td>\n",
       "      <td>0</td>\n",
       "      <td>0</td>\n",
       "      <td>0</td>\n",
       "      <td>0</td>\n",
       "      <td>0</td>\n",
       "      <td>0</td>\n",
       "      <td>0</td>\n",
       "      <td>0</td>\n",
       "      <td>0</td>\n",
       "      <td>...</td>\n",
       "      <td>0</td>\n",
       "      <td>0</td>\n",
       "      <td>0</td>\n",
       "      <td>0</td>\n",
       "      <td>0</td>\n",
       "      <td>0</td>\n",
       "      <td>0</td>\n",
       "      <td>0</td>\n",
       "      <td>0</td>\n",
       "      <td>0</td>\n",
       "    </tr>\n",
       "    <tr>\n",
       "      <th>total_of_special_requests</th>\n",
       "      <td>0</td>\n",
       "      <td>0</td>\n",
       "      <td>0</td>\n",
       "      <td>0</td>\n",
       "      <td>1</td>\n",
       "      <td>1</td>\n",
       "      <td>0</td>\n",
       "      <td>1</td>\n",
       "      <td>1</td>\n",
       "      <td>0</td>\n",
       "      <td>...</td>\n",
       "      <td>1</td>\n",
       "      <td>0</td>\n",
       "      <td>0</td>\n",
       "      <td>0</td>\n",
       "      <td>2</td>\n",
       "      <td>0</td>\n",
       "      <td>2</td>\n",
       "      <td>4</td>\n",
       "      <td>0</td>\n",
       "      <td>2</td>\n",
       "    </tr>\n",
       "    <tr>\n",
       "      <th>reservation_status</th>\n",
       "      <td>Check-Out</td>\n",
       "      <td>Check-Out</td>\n",
       "      <td>Check-Out</td>\n",
       "      <td>Check-Out</td>\n",
       "      <td>Check-Out</td>\n",
       "      <td>Check-Out</td>\n",
       "      <td>Check-Out</td>\n",
       "      <td>Check-Out</td>\n",
       "      <td>Canceled</td>\n",
       "      <td>Canceled</td>\n",
       "      <td>...</td>\n",
       "      <td>Check-Out</td>\n",
       "      <td>Check-Out</td>\n",
       "      <td>Check-Out</td>\n",
       "      <td>Check-Out</td>\n",
       "      <td>Check-Out</td>\n",
       "      <td>Check-Out</td>\n",
       "      <td>Check-Out</td>\n",
       "      <td>Check-Out</td>\n",
       "      <td>Check-Out</td>\n",
       "      <td>Check-Out</td>\n",
       "    </tr>\n",
       "    <tr>\n",
       "      <th>reservation_status_date</th>\n",
       "      <td>2015-07-01</td>\n",
       "      <td>2015-07-01</td>\n",
       "      <td>2015-07-02</td>\n",
       "      <td>2015-07-02</td>\n",
       "      <td>2015-07-03</td>\n",
       "      <td>2015-07-03</td>\n",
       "      <td>2015-07-03</td>\n",
       "      <td>2015-07-03</td>\n",
       "      <td>2015-05-06</td>\n",
       "      <td>2015-04-22</td>\n",
       "      <td>...</td>\n",
       "      <td>2017-09-04</td>\n",
       "      <td>2017-09-05</td>\n",
       "      <td>2017-09-05</td>\n",
       "      <td>2017-09-06</td>\n",
       "      <td>2017-09-06</td>\n",
       "      <td>2017-09-06</td>\n",
       "      <td>2017-09-07</td>\n",
       "      <td>2017-09-07</td>\n",
       "      <td>2017-09-07</td>\n",
       "      <td>2017-09-07</td>\n",
       "    </tr>\n",
       "  </tbody>\n",
       "</table>\n",
       "<p>32 rows × 119390 columns</p>\n",
       "</div>"
      ],
      "text/plain": [
       "                                      0             1             2       \\\n",
       "hotel                           Resort Hotel  Resort Hotel  Resort Hotel   \n",
       "is_canceled                                0             0             0   \n",
       "lead_time                                342           737             7   \n",
       "arrival_date_year                       2015          2015          2015   \n",
       "arrival_date_month                      July          July          July   \n",
       "arrival_date_week_number                  27            27            27   \n",
       "arrival_date_day_of_month                  1             1             1   \n",
       "stays_in_weekend_nights                    0             0             0   \n",
       "stays_in_week_nights                       0             0             1   \n",
       "adults                                     2             2             1   \n",
       "children                                 0.0           0.0           0.0   \n",
       "babies                                     0             0             0   \n",
       "meal                                      BB            BB            BB   \n",
       "country                                  PRT           PRT           GBR   \n",
       "market_segment                        Direct        Direct        Direct   \n",
       "distribution_channel                  Direct        Direct        Direct   \n",
       "is_repeated_guest                          0             0             0   \n",
       "previous_cancellations                     0             0             0   \n",
       "previous_bookings_not_canceled             0             0             0   \n",
       "reserved_room_type                         C             C             A   \n",
       "assigned_room_type                         C             C             C   \n",
       "booking_changes                            3             4             0   \n",
       "deposit_type                      No Deposit    No Deposit    No Deposit   \n",
       "agent                                    NaN           NaN           NaN   \n",
       "company                                  NaN           NaN           NaN   \n",
       "days_in_waiting_list                       0             0             0   \n",
       "customer_type                      Transient     Transient     Transient   \n",
       "adr                                      0.0           0.0          75.0   \n",
       "required_car_parking_spaces                0             0             0   \n",
       "total_of_special_requests                  0             0             0   \n",
       "reservation_status                 Check-Out     Check-Out     Check-Out   \n",
       "reservation_status_date           2015-07-01    2015-07-01    2015-07-02   \n",
       "\n",
       "                                      3             4             5       \\\n",
       "hotel                           Resort Hotel  Resort Hotel  Resort Hotel   \n",
       "is_canceled                                0             0             0   \n",
       "lead_time                                 13            14            14   \n",
       "arrival_date_year                       2015          2015          2015   \n",
       "arrival_date_month                      July          July          July   \n",
       "arrival_date_week_number                  27            27            27   \n",
       "arrival_date_day_of_month                  1             1             1   \n",
       "stays_in_weekend_nights                    0             0             0   \n",
       "stays_in_week_nights                       1             2             2   \n",
       "adults                                     1             2             2   \n",
       "children                                 0.0           0.0           0.0   \n",
       "babies                                     0             0             0   \n",
       "meal                                      BB            BB            BB   \n",
       "country                                  GBR           GBR           GBR   \n",
       "market_segment                     Corporate     Online TA     Online TA   \n",
       "distribution_channel               Corporate         TA/TO         TA/TO   \n",
       "is_repeated_guest                          0             0             0   \n",
       "previous_cancellations                     0             0             0   \n",
       "previous_bookings_not_canceled             0             0             0   \n",
       "reserved_room_type                         A             A             A   \n",
       "assigned_room_type                         A             A             A   \n",
       "booking_changes                            0             0             0   \n",
       "deposit_type                      No Deposit    No Deposit    No Deposit   \n",
       "agent                                  304.0         240.0         240.0   \n",
       "company                                  NaN           NaN           NaN   \n",
       "days_in_waiting_list                       0             0             0   \n",
       "customer_type                      Transient     Transient     Transient   \n",
       "adr                                     75.0          98.0          98.0   \n",
       "required_car_parking_spaces                0             0             0   \n",
       "total_of_special_requests                  0             1             1   \n",
       "reservation_status                 Check-Out     Check-Out     Check-Out   \n",
       "reservation_status_date           2015-07-02    2015-07-03    2015-07-03   \n",
       "\n",
       "                                      6             7             8       \\\n",
       "hotel                           Resort Hotel  Resort Hotel  Resort Hotel   \n",
       "is_canceled                                0             0             1   \n",
       "lead_time                                  0             9            85   \n",
       "arrival_date_year                       2015          2015          2015   \n",
       "arrival_date_month                      July          July          July   \n",
       "arrival_date_week_number                  27            27            27   \n",
       "arrival_date_day_of_month                  1             1             1   \n",
       "stays_in_weekend_nights                    0             0             0   \n",
       "stays_in_week_nights                       2             2             3   \n",
       "adults                                     2             2             2   \n",
       "children                                 0.0           0.0           0.0   \n",
       "babies                                     0             0             0   \n",
       "meal                                      BB            FB            BB   \n",
       "country                                  PRT           PRT           PRT   \n",
       "market_segment                        Direct        Direct     Online TA   \n",
       "distribution_channel                  Direct        Direct         TA/TO   \n",
       "is_repeated_guest                          0             0             0   \n",
       "previous_cancellations                     0             0             0   \n",
       "previous_bookings_not_canceled             0             0             0   \n",
       "reserved_room_type                         C             C             A   \n",
       "assigned_room_type                         C             C             A   \n",
       "booking_changes                            0             0             0   \n",
       "deposit_type                      No Deposit    No Deposit    No Deposit   \n",
       "agent                                    NaN         303.0         240.0   \n",
       "company                                  NaN           NaN           NaN   \n",
       "days_in_waiting_list                       0             0             0   \n",
       "customer_type                      Transient     Transient     Transient   \n",
       "adr                                    107.0         103.0          82.0   \n",
       "required_car_parking_spaces                0             0             0   \n",
       "total_of_special_requests                  0             1             1   \n",
       "reservation_status                 Check-Out     Check-Out      Canceled   \n",
       "reservation_status_date           2015-07-03    2015-07-03    2015-05-06   \n",
       "\n",
       "                                       9       ...      119380      119381  \\\n",
       "hotel                            Resort Hotel  ...  City Hotel  City Hotel   \n",
       "is_canceled                                 1  ...           0           0   \n",
       "lead_time                                  75  ...          44         188   \n",
       "arrival_date_year                        2015  ...        2017        2017   \n",
       "arrival_date_month                       July  ...      August      August   \n",
       "arrival_date_week_number                   27  ...          35          35   \n",
       "arrival_date_day_of_month                   1  ...          31          31   \n",
       "stays_in_weekend_nights                     0  ...           1           2   \n",
       "stays_in_week_nights                        3  ...           3           3   \n",
       "adults                                      2  ...           2           2   \n",
       "children                                  0.0  ...         0.0         0.0   \n",
       "babies                                      0  ...           0           0   \n",
       "meal                                       HB  ...          SC          BB   \n",
       "country                                   PRT  ...         DEU         DEU   \n",
       "market_segment                  Offline TA/TO  ...   Online TA      Direct   \n",
       "distribution_channel                    TA/TO  ...       TA/TO      Direct   \n",
       "is_repeated_guest                           0  ...           0           0   \n",
       "previous_cancellations                      0  ...           0           0   \n",
       "previous_bookings_not_canceled              0  ...           0           0   \n",
       "reserved_room_type                          D  ...           A           A   \n",
       "assigned_room_type                          D  ...           A           A   \n",
       "booking_changes                             0  ...           0           0   \n",
       "deposit_type                       No Deposit  ...  No Deposit  No Deposit   \n",
       "agent                                    15.0  ...         9.0        14.0   \n",
       "company                                   NaN  ...         NaN         NaN   \n",
       "days_in_waiting_list                        0  ...           0           0   \n",
       "customer_type                       Transient  ...   Transient   Transient   \n",
       "adr                                     105.5  ...      140.75        99.0   \n",
       "required_car_parking_spaces                 0  ...           0           0   \n",
       "total_of_special_requests                   0  ...           1           0   \n",
       "reservation_status                   Canceled  ...   Check-Out   Check-Out   \n",
       "reservation_status_date            2015-04-22  ...  2017-09-04  2017-09-05   \n",
       "\n",
       "                                    119382         119383         119384  \\\n",
       "hotel                           City Hotel     City Hotel     City Hotel   \n",
       "is_canceled                              0              0              0   \n",
       "lead_time                              135            164             21   \n",
       "arrival_date_year                     2017           2017           2017   \n",
       "arrival_date_month                  August         August         August   \n",
       "arrival_date_week_number                35             35             35   \n",
       "arrival_date_day_of_month               30             31             30   \n",
       "stays_in_weekend_nights                  2              2              2   \n",
       "stays_in_week_nights                     4              4              5   \n",
       "adults                                   3              2              2   \n",
       "children                               0.0            0.0            0.0   \n",
       "babies                                   0              0              0   \n",
       "meal                                    BB             BB             BB   \n",
       "country                                JPN            DEU            BEL   \n",
       "market_segment                   Online TA  Offline TA/TO  Offline TA/TO   \n",
       "distribution_channel                 TA/TO          TA/TO          TA/TO   \n",
       "is_repeated_guest                        0              0              0   \n",
       "previous_cancellations                   0              0              0   \n",
       "previous_bookings_not_canceled           0              0              0   \n",
       "reserved_room_type                       G              A              A   \n",
       "assigned_room_type                       G              A              A   \n",
       "booking_changes                          0              0              0   \n",
       "deposit_type                    No Deposit     No Deposit     No Deposit   \n",
       "agent                                  7.0           42.0          394.0   \n",
       "company                                NaN            NaN            NaN   \n",
       "days_in_waiting_list                     0              0              0   \n",
       "customer_type                    Transient      Transient      Transient   \n",
       "adr                                  209.0           87.6          96.14   \n",
       "required_car_parking_spaces              0              0              0   \n",
       "total_of_special_requests                0              0              2   \n",
       "reservation_status               Check-Out      Check-Out      Check-Out   \n",
       "reservation_status_date         2017-09-05     2017-09-06     2017-09-06   \n",
       "\n",
       "                                       119385      119386      119387  \\\n",
       "hotel                              City Hotel  City Hotel  City Hotel   \n",
       "is_canceled                                 0           0           0   \n",
       "lead_time                                  23         102          34   \n",
       "arrival_date_year                        2017        2017        2017   \n",
       "arrival_date_month                     August      August      August   \n",
       "arrival_date_week_number                   35          35          35   \n",
       "arrival_date_day_of_month                  30          31          31   \n",
       "stays_in_weekend_nights                     2           2           2   \n",
       "stays_in_week_nights                        5           5           5   \n",
       "adults                                      2           3           2   \n",
       "children                                  0.0         0.0         0.0   \n",
       "babies                                      0           0           0   \n",
       "meal                                       BB          BB          BB   \n",
       "country                                   BEL         FRA         DEU   \n",
       "market_segment                  Offline TA/TO   Online TA   Online TA   \n",
       "distribution_channel                    TA/TO       TA/TO       TA/TO   \n",
       "is_repeated_guest                           0           0           0   \n",
       "previous_cancellations                      0           0           0   \n",
       "previous_bookings_not_canceled              0           0           0   \n",
       "reserved_room_type                          A           E           D   \n",
       "assigned_room_type                          A           E           D   \n",
       "booking_changes                             0           0           0   \n",
       "deposit_type                       No Deposit  No Deposit  No Deposit   \n",
       "agent                                   394.0         9.0         9.0   \n",
       "company                                   NaN         NaN         NaN   \n",
       "days_in_waiting_list                        0           0           0   \n",
       "customer_type                       Transient   Transient   Transient   \n",
       "adr                                     96.14      225.43      157.71   \n",
       "required_car_parking_spaces                 0           0           0   \n",
       "total_of_special_requests                   0           2           4   \n",
       "reservation_status                  Check-Out   Check-Out   Check-Out   \n",
       "reservation_status_date            2017-09-06  2017-09-07  2017-09-07   \n",
       "\n",
       "                                    119388      119389  \n",
       "hotel                           City Hotel  City Hotel  \n",
       "is_canceled                              0           0  \n",
       "lead_time                              109         205  \n",
       "arrival_date_year                     2017        2017  \n",
       "arrival_date_month                  August      August  \n",
       "arrival_date_week_number                35          35  \n",
       "arrival_date_day_of_month               31          29  \n",
       "stays_in_weekend_nights                  2           2  \n",
       "stays_in_week_nights                     5           7  \n",
       "adults                                   2           2  \n",
       "children                               0.0         0.0  \n",
       "babies                                   0           0  \n",
       "meal                                    BB          HB  \n",
       "country                                GBR         DEU  \n",
       "market_segment                   Online TA   Online TA  \n",
       "distribution_channel                 TA/TO       TA/TO  \n",
       "is_repeated_guest                        0           0  \n",
       "previous_cancellations                   0           0  \n",
       "previous_bookings_not_canceled           0           0  \n",
       "reserved_room_type                       A           A  \n",
       "assigned_room_type                       A           A  \n",
       "booking_changes                          0           0  \n",
       "deposit_type                    No Deposit  No Deposit  \n",
       "agent                                 89.0         9.0  \n",
       "company                                NaN         NaN  \n",
       "days_in_waiting_list                     0           0  \n",
       "customer_type                    Transient   Transient  \n",
       "adr                                  104.4       151.2  \n",
       "required_car_parking_spaces              0           0  \n",
       "total_of_special_requests                0           2  \n",
       "reservation_status               Check-Out   Check-Out  \n",
       "reservation_status_date         2017-09-07  2017-09-07  \n",
       "\n",
       "[32 rows x 119390 columns]"
      ]
     },
     "execution_count": 316,
     "metadata": {},
     "output_type": "execute_result"
    }
   ],
   "source": [
    "hotel_data = pd.read_csv(r'C:\\Users\\Ogidan\\Desktop\\hope\\data sets\\Hotel_data\\hotel_bookings.csv')\n",
    "hotel_data.T"
   ]
  },
  {
   "cell_type": "code",
   "execution_count": 317,
   "id": "07a0ee29",
   "metadata": {},
   "outputs": [
    {
     "name": "stdout",
     "output_type": "stream",
     "text": [
      "<class 'pandas.core.frame.DataFrame'>\n",
      "RangeIndex: 119390 entries, 0 to 119389\n",
      "Data columns (total 32 columns):\n",
      " #   Column                          Non-Null Count   Dtype  \n",
      "---  ------                          --------------   -----  \n",
      " 0   hotel                           119390 non-null  object \n",
      " 1   is_canceled                     119390 non-null  int64  \n",
      " 2   lead_time                       119390 non-null  int64  \n",
      " 3   arrival_date_year               119390 non-null  int64  \n",
      " 4   arrival_date_month              119390 non-null  object \n",
      " 5   arrival_date_week_number        119390 non-null  int64  \n",
      " 6   arrival_date_day_of_month       119390 non-null  int64  \n",
      " 7   stays_in_weekend_nights         119390 non-null  int64  \n",
      " 8   stays_in_week_nights            119390 non-null  int64  \n",
      " 9   adults                          119390 non-null  int64  \n",
      " 10  children                        119386 non-null  float64\n",
      " 11  babies                          119390 non-null  int64  \n",
      " 12  meal                            119390 non-null  object \n",
      " 13  country                         118902 non-null  object \n",
      " 14  market_segment                  119390 non-null  object \n",
      " 15  distribution_channel            119390 non-null  object \n",
      " 16  is_repeated_guest               119390 non-null  int64  \n",
      " 17  previous_cancellations          119390 non-null  int64  \n",
      " 18  previous_bookings_not_canceled  119390 non-null  int64  \n",
      " 19  reserved_room_type              119390 non-null  object \n",
      " 20  assigned_room_type              119390 non-null  object \n",
      " 21  booking_changes                 119390 non-null  int64  \n",
      " 22  deposit_type                    119390 non-null  object \n",
      " 23  agent                           103050 non-null  float64\n",
      " 24  company                         6797 non-null    float64\n",
      " 25  days_in_waiting_list            119390 non-null  int64  \n",
      " 26  customer_type                   119390 non-null  object \n",
      " 27  adr                             119390 non-null  float64\n",
      " 28  required_car_parking_spaces     119390 non-null  int64  \n",
      " 29  total_of_special_requests       119390 non-null  int64  \n",
      " 30  reservation_status              119390 non-null  object \n",
      " 31  reservation_status_date         119390 non-null  object \n",
      "dtypes: float64(4), int64(16), object(12)\n",
      "memory usage: 29.1+ MB\n"
     ]
    }
   ],
   "source": [
    "hotel_data.info()"
   ]
  },
  {
   "cell_type": "code",
   "execution_count": 318,
   "id": "c30ba86a",
   "metadata": {},
   "outputs": [
    {
     "data": {
      "text/plain": [
       "company                           112593\n",
       "agent                              16340\n",
       "country                              488\n",
       "children                               4\n",
       "reserved_room_type                     0\n",
       "assigned_room_type                     0\n",
       "booking_changes                        0\n",
       "deposit_type                           0\n",
       "hotel                                  0\n",
       "previous_cancellations                 0\n",
       "days_in_waiting_list                   0\n",
       "customer_type                          0\n",
       "adr                                    0\n",
       "required_car_parking_spaces            0\n",
       "total_of_special_requests              0\n",
       "reservation_status                     0\n",
       "previous_bookings_not_canceled         0\n",
       "is_repeated_guest                      0\n",
       "is_canceled                            0\n",
       "distribution_channel                   0\n",
       "market_segment                         0\n",
       "meal                                   0\n",
       "babies                                 0\n",
       "adults                                 0\n",
       "stays_in_week_nights                   0\n",
       "stays_in_weekend_nights                0\n",
       "arrival_date_day_of_month              0\n",
       "arrival_date_week_number               0\n",
       "arrival_date_month                     0\n",
       "arrival_date_year                      0\n",
       "lead_time                              0\n",
       "reservation_status_date                0\n",
       "dtype: int64"
      ]
     },
     "execution_count": 318,
     "metadata": {},
     "output_type": "execute_result"
    }
   ],
   "source": [
    "hotel_data.isnull().sum().sort_values(ascending = False)\n",
    "\n",
    "\n",
    "# hotel_data\n"
   ]
  },
  {
   "cell_type": "code",
   "execution_count": 319,
   "id": "a1b4f9eb",
   "metadata": {},
   "outputs": [],
   "source": [
    "hotel_data.drop('company',axis=1, inplace=True)"
   ]
  },
  {
   "cell_type": "code",
   "execution_count": 320,
   "id": "95916886",
   "metadata": {},
   "outputs": [
    {
     "data": {
      "text/html": [
       "<div>\n",
       "<style scoped>\n",
       "    .dataframe tbody tr th:only-of-type {\n",
       "        vertical-align: middle;\n",
       "    }\n",
       "\n",
       "    .dataframe tbody tr th {\n",
       "        vertical-align: top;\n",
       "    }\n",
       "\n",
       "    .dataframe thead th {\n",
       "        text-align: right;\n",
       "    }\n",
       "</style>\n",
       "<table border=\"1\" class=\"dataframe\">\n",
       "  <thead>\n",
       "    <tr style=\"text-align: right;\">\n",
       "      <th></th>\n",
       "      <th>is_canceled</th>\n",
       "      <th>lead_time</th>\n",
       "      <th>arrival_date_year</th>\n",
       "      <th>arrival_date_week_number</th>\n",
       "      <th>arrival_date_day_of_month</th>\n",
       "      <th>stays_in_weekend_nights</th>\n",
       "      <th>stays_in_week_nights</th>\n",
       "      <th>adults</th>\n",
       "      <th>children</th>\n",
       "      <th>babies</th>\n",
       "      <th>is_repeated_guest</th>\n",
       "      <th>previous_cancellations</th>\n",
       "      <th>previous_bookings_not_canceled</th>\n",
       "      <th>booking_changes</th>\n",
       "      <th>agent</th>\n",
       "      <th>days_in_waiting_list</th>\n",
       "      <th>adr</th>\n",
       "      <th>required_car_parking_spaces</th>\n",
       "      <th>total_of_special_requests</th>\n",
       "    </tr>\n",
       "  </thead>\n",
       "  <tbody>\n",
       "    <tr>\n",
       "      <th>count</th>\n",
       "      <td>119390.000000</td>\n",
       "      <td>119390.000000</td>\n",
       "      <td>119390.000000</td>\n",
       "      <td>119390.000000</td>\n",
       "      <td>119390.000000</td>\n",
       "      <td>119390.000000</td>\n",
       "      <td>119390.000000</td>\n",
       "      <td>119390.000000</td>\n",
       "      <td>119386.000000</td>\n",
       "      <td>119390.000000</td>\n",
       "      <td>119390.000000</td>\n",
       "      <td>119390.000000</td>\n",
       "      <td>119390.000000</td>\n",
       "      <td>119390.000000</td>\n",
       "      <td>103050.000000</td>\n",
       "      <td>119390.000000</td>\n",
       "      <td>119390.000000</td>\n",
       "      <td>119390.000000</td>\n",
       "      <td>119390.000000</td>\n",
       "    </tr>\n",
       "    <tr>\n",
       "      <th>mean</th>\n",
       "      <td>0.370416</td>\n",
       "      <td>104.011416</td>\n",
       "      <td>2016.156554</td>\n",
       "      <td>27.165173</td>\n",
       "      <td>15.798241</td>\n",
       "      <td>0.927599</td>\n",
       "      <td>2.500302</td>\n",
       "      <td>1.856403</td>\n",
       "      <td>0.103890</td>\n",
       "      <td>0.007949</td>\n",
       "      <td>0.031912</td>\n",
       "      <td>0.087118</td>\n",
       "      <td>0.137097</td>\n",
       "      <td>0.221124</td>\n",
       "      <td>86.693382</td>\n",
       "      <td>2.321149</td>\n",
       "      <td>101.831122</td>\n",
       "      <td>0.062518</td>\n",
       "      <td>0.571363</td>\n",
       "    </tr>\n",
       "    <tr>\n",
       "      <th>std</th>\n",
       "      <td>0.482918</td>\n",
       "      <td>106.863097</td>\n",
       "      <td>0.707476</td>\n",
       "      <td>13.605138</td>\n",
       "      <td>8.780829</td>\n",
       "      <td>0.998613</td>\n",
       "      <td>1.908286</td>\n",
       "      <td>0.579261</td>\n",
       "      <td>0.398561</td>\n",
       "      <td>0.097436</td>\n",
       "      <td>0.175767</td>\n",
       "      <td>0.844336</td>\n",
       "      <td>1.497437</td>\n",
       "      <td>0.652306</td>\n",
       "      <td>110.774548</td>\n",
       "      <td>17.594721</td>\n",
       "      <td>50.535790</td>\n",
       "      <td>0.245291</td>\n",
       "      <td>0.792798</td>\n",
       "    </tr>\n",
       "    <tr>\n",
       "      <th>min</th>\n",
       "      <td>0.000000</td>\n",
       "      <td>0.000000</td>\n",
       "      <td>2015.000000</td>\n",
       "      <td>1.000000</td>\n",
       "      <td>1.000000</td>\n",
       "      <td>0.000000</td>\n",
       "      <td>0.000000</td>\n",
       "      <td>0.000000</td>\n",
       "      <td>0.000000</td>\n",
       "      <td>0.000000</td>\n",
       "      <td>0.000000</td>\n",
       "      <td>0.000000</td>\n",
       "      <td>0.000000</td>\n",
       "      <td>0.000000</td>\n",
       "      <td>1.000000</td>\n",
       "      <td>0.000000</td>\n",
       "      <td>-6.380000</td>\n",
       "      <td>0.000000</td>\n",
       "      <td>0.000000</td>\n",
       "    </tr>\n",
       "    <tr>\n",
       "      <th>25%</th>\n",
       "      <td>0.000000</td>\n",
       "      <td>18.000000</td>\n",
       "      <td>2016.000000</td>\n",
       "      <td>16.000000</td>\n",
       "      <td>8.000000</td>\n",
       "      <td>0.000000</td>\n",
       "      <td>1.000000</td>\n",
       "      <td>2.000000</td>\n",
       "      <td>0.000000</td>\n",
       "      <td>0.000000</td>\n",
       "      <td>0.000000</td>\n",
       "      <td>0.000000</td>\n",
       "      <td>0.000000</td>\n",
       "      <td>0.000000</td>\n",
       "      <td>9.000000</td>\n",
       "      <td>0.000000</td>\n",
       "      <td>69.290000</td>\n",
       "      <td>0.000000</td>\n",
       "      <td>0.000000</td>\n",
       "    </tr>\n",
       "    <tr>\n",
       "      <th>50%</th>\n",
       "      <td>0.000000</td>\n",
       "      <td>69.000000</td>\n",
       "      <td>2016.000000</td>\n",
       "      <td>28.000000</td>\n",
       "      <td>16.000000</td>\n",
       "      <td>1.000000</td>\n",
       "      <td>2.000000</td>\n",
       "      <td>2.000000</td>\n",
       "      <td>0.000000</td>\n",
       "      <td>0.000000</td>\n",
       "      <td>0.000000</td>\n",
       "      <td>0.000000</td>\n",
       "      <td>0.000000</td>\n",
       "      <td>0.000000</td>\n",
       "      <td>14.000000</td>\n",
       "      <td>0.000000</td>\n",
       "      <td>94.575000</td>\n",
       "      <td>0.000000</td>\n",
       "      <td>0.000000</td>\n",
       "    </tr>\n",
       "    <tr>\n",
       "      <th>75%</th>\n",
       "      <td>1.000000</td>\n",
       "      <td>160.000000</td>\n",
       "      <td>2017.000000</td>\n",
       "      <td>38.000000</td>\n",
       "      <td>23.000000</td>\n",
       "      <td>2.000000</td>\n",
       "      <td>3.000000</td>\n",
       "      <td>2.000000</td>\n",
       "      <td>0.000000</td>\n",
       "      <td>0.000000</td>\n",
       "      <td>0.000000</td>\n",
       "      <td>0.000000</td>\n",
       "      <td>0.000000</td>\n",
       "      <td>0.000000</td>\n",
       "      <td>229.000000</td>\n",
       "      <td>0.000000</td>\n",
       "      <td>126.000000</td>\n",
       "      <td>0.000000</td>\n",
       "      <td>1.000000</td>\n",
       "    </tr>\n",
       "    <tr>\n",
       "      <th>max</th>\n",
       "      <td>1.000000</td>\n",
       "      <td>737.000000</td>\n",
       "      <td>2017.000000</td>\n",
       "      <td>53.000000</td>\n",
       "      <td>31.000000</td>\n",
       "      <td>19.000000</td>\n",
       "      <td>50.000000</td>\n",
       "      <td>55.000000</td>\n",
       "      <td>10.000000</td>\n",
       "      <td>10.000000</td>\n",
       "      <td>1.000000</td>\n",
       "      <td>26.000000</td>\n",
       "      <td>72.000000</td>\n",
       "      <td>21.000000</td>\n",
       "      <td>535.000000</td>\n",
       "      <td>391.000000</td>\n",
       "      <td>5400.000000</td>\n",
       "      <td>8.000000</td>\n",
       "      <td>5.000000</td>\n",
       "    </tr>\n",
       "  </tbody>\n",
       "</table>\n",
       "</div>"
      ],
      "text/plain": [
       "         is_canceled      lead_time  arrival_date_year  \\\n",
       "count  119390.000000  119390.000000      119390.000000   \n",
       "mean        0.370416     104.011416        2016.156554   \n",
       "std         0.482918     106.863097           0.707476   \n",
       "min         0.000000       0.000000        2015.000000   \n",
       "25%         0.000000      18.000000        2016.000000   \n",
       "50%         0.000000      69.000000        2016.000000   \n",
       "75%         1.000000     160.000000        2017.000000   \n",
       "max         1.000000     737.000000        2017.000000   \n",
       "\n",
       "       arrival_date_week_number  arrival_date_day_of_month  \\\n",
       "count             119390.000000              119390.000000   \n",
       "mean                  27.165173                  15.798241   \n",
       "std                   13.605138                   8.780829   \n",
       "min                    1.000000                   1.000000   \n",
       "25%                   16.000000                   8.000000   \n",
       "50%                   28.000000                  16.000000   \n",
       "75%                   38.000000                  23.000000   \n",
       "max                   53.000000                  31.000000   \n",
       "\n",
       "       stays_in_weekend_nights  stays_in_week_nights         adults  \\\n",
       "count            119390.000000         119390.000000  119390.000000   \n",
       "mean                  0.927599              2.500302       1.856403   \n",
       "std                   0.998613              1.908286       0.579261   \n",
       "min                   0.000000              0.000000       0.000000   \n",
       "25%                   0.000000              1.000000       2.000000   \n",
       "50%                   1.000000              2.000000       2.000000   \n",
       "75%                   2.000000              3.000000       2.000000   \n",
       "max                  19.000000             50.000000      55.000000   \n",
       "\n",
       "            children         babies  is_repeated_guest  \\\n",
       "count  119386.000000  119390.000000      119390.000000   \n",
       "mean        0.103890       0.007949           0.031912   \n",
       "std         0.398561       0.097436           0.175767   \n",
       "min         0.000000       0.000000           0.000000   \n",
       "25%         0.000000       0.000000           0.000000   \n",
       "50%         0.000000       0.000000           0.000000   \n",
       "75%         0.000000       0.000000           0.000000   \n",
       "max        10.000000      10.000000           1.000000   \n",
       "\n",
       "       previous_cancellations  previous_bookings_not_canceled  \\\n",
       "count           119390.000000                   119390.000000   \n",
       "mean                 0.087118                        0.137097   \n",
       "std                  0.844336                        1.497437   \n",
       "min                  0.000000                        0.000000   \n",
       "25%                  0.000000                        0.000000   \n",
       "50%                  0.000000                        0.000000   \n",
       "75%                  0.000000                        0.000000   \n",
       "max                 26.000000                       72.000000   \n",
       "\n",
       "       booking_changes          agent  days_in_waiting_list            adr  \\\n",
       "count    119390.000000  103050.000000         119390.000000  119390.000000   \n",
       "mean          0.221124      86.693382              2.321149     101.831122   \n",
       "std           0.652306     110.774548             17.594721      50.535790   \n",
       "min           0.000000       1.000000              0.000000      -6.380000   \n",
       "25%           0.000000       9.000000              0.000000      69.290000   \n",
       "50%           0.000000      14.000000              0.000000      94.575000   \n",
       "75%           0.000000     229.000000              0.000000     126.000000   \n",
       "max          21.000000     535.000000            391.000000    5400.000000   \n",
       "\n",
       "       required_car_parking_spaces  total_of_special_requests  \n",
       "count                119390.000000              119390.000000  \n",
       "mean                      0.062518                   0.571363  \n",
       "std                       0.245291                   0.792798  \n",
       "min                       0.000000                   0.000000  \n",
       "25%                       0.000000                   0.000000  \n",
       "50%                       0.000000                   0.000000  \n",
       "75%                       0.000000                   1.000000  \n",
       "max                       8.000000                   5.000000  "
      ]
     },
     "execution_count": 320,
     "metadata": {},
     "output_type": "execute_result"
    }
   ],
   "source": [
    "hotel_data.describe()"
   ]
  },
  {
   "cell_type": "markdown",
   "id": "2cf3f68d",
   "metadata": {},
   "source": [
    "## Filling The Missing Values"
   ]
  },
  {
   "cell_type": "code",
   "execution_count": 321,
   "id": "9ebbbdfe",
   "metadata": {},
   "outputs": [],
   "source": [
    "#fill null values\n",
    "hotel_data[\"agent\"]= hotel_data[\"agent\"].fillna(hotel_data[\"agent\"].median())\n",
    "hotel_data[\"children\"]= hotel_data[\"children\"].fillna(hotel_data[\"children\"].median())\n",
    "hotel_data[\"country\"]= hotel_data[\"country\"].fillna(hotel_data[\"country\"].mode()[0])\n",
    "\n",
    "\n",
    "#replace undefined with null values\n",
    "\n",
    "c = hotel_data['market_segment'] == 'Undefined'\n",
    "hotel_data = hotel_data.replace(c,np.nan)\n",
    "\n",
    "#total number of people visiting the hostel\n",
    "hotel_data['total_people'] = hotel_data['adults'] + hotel_data['children'] + hotel_data['babies']\n",
    "\n",
    "#remove the days in which no adults visited to get a proper representation\n",
    "hotel_data = hotel_data[hotel_data['adults'] != 0]"
   ]
  },
  {
   "cell_type": "markdown",
   "id": "486fb28b",
   "metadata": {},
   "source": [
    "### Hotel type"
   ]
  },
  {
   "cell_type": "code",
   "execution_count": 322,
   "id": "a0f6ef5c",
   "metadata": {},
   "outputs": [
    {
     "data": {
      "text/plain": [
       "<AxesSubplot:xlabel='hotel', ylabel='count'>"
      ]
     },
     "execution_count": 322,
     "metadata": {},
     "output_type": "execute_result"
    },
    {
     "data": {
      "image/png": "[encoded data removed]",
      "text/plain": [
       "<Figure size 648x360 with 1 Axes>"
      ]
     },
     "metadata": {
      "needs_background": "light"
     },
     "output_type": "display_data"
    }
   ],
   "source": [
    "sns.countplot(x= 'hotel',data = hotel_data)"
   ]
  },
  {
   "cell_type": "markdown",
   "id": "c58c5bc9",
   "metadata": {},
   "source": [
    "from the chart, we can see that two times the sample population lodge in city hotels more"
   ]
  },
  {
   "cell_type": "markdown",
   "id": "99099abe",
   "metadata": {},
   "source": [
    "### Cancelled bookings "
   ]
  },
  {
   "cell_type": "code",
   "execution_count": 323,
   "id": "84b964db",
   "metadata": {},
   "outputs": [
    {
     "data": {
      "text/plain": [
       "<AxesSubplot:xlabel='is_canceled', ylabel='count'>"
      ]
     },
     "execution_count": 323,
     "metadata": {},
     "output_type": "execute_result"
    },
    {
     "data": {
      "image/png": "[encoded data removed]",
      "text/plain": [
       "<Figure size 648x360 with 1 Axes>"
      ]
     },
     "metadata": {
      "needs_background": "light"
     },
     "output_type": "display_data"
    }
   ],
   "source": [
    "sns.countplot(x= 'is_canceled',data = hotel_data)"
   ]
  },
  {
   "cell_type": "markdown",
   "id": "f23a895e",
   "metadata": {},
   "source": [
    " from this plot, we can see that at least half of the total number of people who booked cancelled their bookings"
   ]
  },
  {
   "cell_type": "markdown",
   "id": "e180a249",
   "metadata": {},
   "source": [
    "## Deposit type"
   ]
  },
  {
   "cell_type": "code",
   "execution_count": 324,
   "id": "85e86193",
   "metadata": {},
   "outputs": [
    {
     "data": {
      "text/plain": [
       "<AxesSubplot:xlabel='deposit_type', ylabel='count'>"
      ]
     },
     "execution_count": 324,
     "metadata": {},
     "output_type": "execute_result"
    },
    {
     "data": {
      "image/png": "[encoded data removed]",
      "text/plain": [
       "<Figure size 648x360 with 1 Axes>"
      ]
     },
     "metadata": {
      "needs_background": "light"
     },
     "output_type": "display_data"
    }
   ],
   "source": [
    "sns.countplot(x= 'deposit_type',data = hotel_data)"
   ]
  },
  {
   "cell_type": "markdown",
   "id": "58dfa096",
   "metadata": {},
   "source": [
    "we can observe that the number of people who didnt deposit is quite high"
   ]
  },
  {
   "cell_type": "markdown",
   "id": "cfeb870f",
   "metadata": {},
   "source": [
    "### Customer type of different market segments"
   ]
  },
  {
   "cell_type": "code",
   "execution_count": 325,
   "id": "653e2c49",
   "metadata": {},
   "outputs": [
    {
     "data": {
      "image/png": "[encoded data removed]",
      "text/plain": [
       "<Figure size 868.65x360 with 1 Axes>"
      ]
     },
     "metadata": {
      "needs_background": "light"
     },
     "output_type": "display_data"
    }
   ],
   "source": [
    "\n",
    "sns.catplot(x = 'customer_type',hue ='market_segment',data = hotel_data, kind = 'count',aspect=2)\n",
    "plt.title('Count of customer type')\n",
    "plt.xticks(rotation=30);"
   ]
  },
  {
   "cell_type": "markdown",
   "id": "2d8049b9",
   "metadata": {},
   "source": [
    "The number of transient customers in this data is quite high compared to other groups of customers. This is usually the case in many hotels as many people only stay at the hotel for just a short period of time"
   ]
  },
  {
   "cell_type": "markdown",
   "id": "31d2aeee",
   "metadata": {},
   "source": [
    "### Reservation Status"
   ]
  },
  {
   "cell_type": "code",
   "execution_count": 326,
   "id": "a53bb57a",
   "metadata": {},
   "outputs": [
    {
     "data": {
      "image/png": "[encoded data removed]",
      "text/plain": [
       "<Figure size 360x360 with 1 Axes>"
      ]
     },
     "metadata": {
      "needs_background": "light"
     },
     "output_type": "display_data"
    }
   ],
   "source": [
    "sns.catplot(x = 'reservation_status',data = hotel_data, kind = 'count')\n",
    "plt.title('Count of reservation status')\n",
    "plt.xticks(rotation=30);"
   ]
  },
  {
   "cell_type": "markdown",
   "id": "e2c74c46",
   "metadata": {},
   "source": [
    "### Arrival Months"
   ]
  },
  {
   "cell_type": "code",
   "execution_count": 327,
   "id": "0cfeccd4",
   "metadata": {},
   "outputs": [
    {
     "data": {
      "image/png": "[encoded data removed]",
      "text/plain": [
       "<Figure size 648x360 with 1 Axes>"
      ]
     },
     "metadata": {
      "needs_background": "light"
     },
     "output_type": "display_data"
    }
   ],
   "source": [
    "hotel_data['arrival_date_month'].value_counts(ascending= True).plot(kind ='bar')\n",
    "plt.title('Arrival of people in each month')\n",
    "plt.xlabel('Months')\n",
    "plt.ylabel('Total number of people')\n",
    "plt.xticks(rotation=30);\n",
    "\n"
   ]
  },
  {
   "cell_type": "markdown",
   "id": "c89b6ba7",
   "metadata": {},
   "source": [
    "From this graph, we can see that more people arrive in the hotel in the month of august which makes perfect sense because the month of august falls in the summer break of the nothern hemiphere while the lowest falls to the month of january which is quite explanable because january is the beginning pf the year and book tend to focus more on work"
   ]
  },
  {
   "cell_type": "code",
   "execution_count": 328,
   "id": "9dc1e539",
   "metadata": {},
   "outputs": [
    {
     "data": {
      "image/png": "[encoded data removed]",
      "text/plain": [
       "<Figure size 576x432 with 1 Axes>"
      ]
     },
     "metadata": {
      "needs_background": "light"
     },
     "output_type": "display_data"
    }
   ],
   "source": [
    "# condition = hotel_data['market_segment'] != 'Undefined'\n",
    "\n",
    "plt.figure(figsize=(8,6))\n",
    "plt.xticks(rotation= 60)\n",
    "segment = hotel_data['market_segment'].value_counts()\n",
    "\n",
    "plt.bar(x= segment.index, height= segment,)\n",
    "plt.xlabel('Segments')\n",
    "plt.ylabel('Total count')\n",
    "plt.title('Market Segment')\n",
    "plt.show()\n",
    "\n",
    "\n",
    "#remove undefined from this column"
   ]
  },
  {
   "cell_type": "markdown",
   "id": "41382c7d",
   "metadata": {},
   "source": [
    "A good number of people who use this hotels belong to the online TA market segment"
   ]
  },
  {
   "cell_type": "markdown",
   "id": "8f1ff64c",
   "metadata": {},
   "source": [
    "### Reserved room type "
   ]
  },
  {
   "cell_type": "code",
   "execution_count": 329,
   "id": "11d39559",
   "metadata": {},
   "outputs": [
    {
     "data": {
      "text/plain": [
       "Text(0.5, 1.0, 'Count of reserved rooms')"
      ]
     },
     "execution_count": 329,
     "metadata": {},
     "output_type": "execute_result"
    },
    {
     "data": {
      "image/png": "[encoded data removed]",
      "text/plain": [
       "<Figure size 360x360 with 1 Axes>"
      ]
     },
     "metadata": {
      "needs_background": "light"
     },
     "output_type": "display_data"
    }
   ],
   "source": [
    "sns.catplot(x = 'reserved_room_type',data = hotel_data, kind = 'count', order =['A','B','C','D','E','F','G','H','L','P'])\n",
    "plt.title('Count of reserved rooms')\n",
    "# plt.xticks(rotation=30);"
   ]
  },
  {
   "cell_type": "markdown",
   "id": "004e363b",
   "metadata": {},
   "source": [
    "For some reasons, the room A type has the hieghest number of reserved rooms. probably it belongs to the special suites in the hotel "
   ]
  },
  {
   "cell_type": "markdown",
   "id": "839b9e3a",
   "metadata": {},
   "source": [
    "#### I am going to extract the date features for the reserved_status_day"
   ]
  },
  {
   "cell_type": "code",
   "execution_count": 330,
   "id": "f41e2d55",
   "metadata": {},
   "outputs": [],
   "source": [
    "hotel_data[\"reservation_status_date\"] = pd.to_datetime(hotel_data[\"reservation_status_date\"])\n",
    "\n",
    "# Extract date features\n",
    "def extract_date_info(df, cols):\n",
    "    for feat in cols:\n",
    "        df[feat + \"_year\"] = df[feat].dt.year\n",
    "        df[feat + \"_day\"] = df[feat].dt.day\n",
    "        df[feat + \"_month\"] = df[feat].dt.month\n",
    "        df[feat + \"_quarter\"] = df[feat].dt.quarter\n",
    "        df[feat + \"_weekday\"] = df[feat].dt.weekday\n",
    "        df[feat + \"_week\"] = df[feat].dt.isocalendar().week\n",
    "    df.drop(columns=cols,axis=1,inplace=True)\n",
    "\n",
    "\n",
    "extract_date_info(hotel_data, [\"reservation_status_date\"])\n",
    "\n",
    "\n",
    "date_dic = {\n",
    "    \"January\" : 1,\n",
    "    \"February\" : 2,\n",
    "    \"March\" :3 ,\n",
    "    \"April\" :4,\n",
    "    \"May\" : 5,\n",
    "    \"June\" : 6,\n",
    "    \"July\" : 7,\n",
    "    \"August\" : 8,\n",
    "    \"September\" : 9,\n",
    "    \"October\" : 10,\n",
    "    \"November\" : 11,\n",
    "    \"December\" : 12,\n",
    "}\n",
    "\n",
    "\n",
    "# hotel_data\n",
    "\n"
   ]
  },
  {
   "cell_type": "markdown",
   "id": "c7df88e9",
   "metadata": {},
   "source": []
  },
  {
   "cell_type": "markdown",
   "id": "b05c0f30",
   "metadata": {},
   "source": [
    "### Is cancelled vs lead time"
   ]
  },
  {
   "cell_type": "code",
   "execution_count": 331,
   "id": "cce7c8c7",
   "metadata": {},
   "outputs": [
    {
     "data": {
      "text/plain": [
       "<seaborn.axisgrid.FacetGrid at 0x2cf877fa580>"
      ]
     },
     "execution_count": 331,
     "metadata": {},
     "output_type": "execute_result"
    },
    {
     "data": {
      "image/png": "[encoded data removed]",
      "text/plain": [
       "<Figure size 360x360 with 1 Axes>"
      ]
     },
     "metadata": {
      "needs_background": "light"
     },
     "output_type": "display_data"
    }
   ],
   "source": [
    "sns.catplot(y= 'lead_time', x = 'is_canceled', data = hotel_data, kind = 'box',)"
   ]
  },
  {
   "cell_type": "markdown",
   "id": "cdae66bf",
   "metadata": {},
   "source": [
    "People who cancelled their booking have an higher lead time on average than those who didn't cancel theirs. An higher variance also exists among those who didn't cancel their booking"
   ]
  },
  {
   "cell_type": "markdown",
   "id": "32991029",
   "metadata": {},
   "source": [
    "### Which day do people arrive most at the hotel"
   ]
  },
  {
   "cell_type": "code",
   "execution_count": 332,
   "id": "e45d74dd",
   "metadata": {},
   "outputs": [
    {
     "data": {
      "text/plain": [
       "<Figure size 1440x1080 with 0 Axes>"
      ]
     },
     "metadata": {},
     "output_type": "display_data"
    },
    {
     "data": {
      "image/png": "[encoded data removed]",
      "text/plain": [
       "<Figure size 360x360 with 1 Axes>"
      ]
     },
     "metadata": {
      "needs_background": "light"
     },
     "output_type": "display_data"
    }
   ],
   "source": [
    "plt.figure(figsize=(20,15))\n",
    "sns.catplot(data = hotel_data, x ='customer_type' , y= 'arrival_date_day_of_month' ,kind='box')\n",
    "plt.show();"
   ]
  },
  {
   "cell_type": "markdown",
   "id": "3b529bc3",
   "metadata": {},
   "source": [
    "From this plot, we can see that most customers arrive on the 15th day of the month"
   ]
  },
  {
   "cell_type": "code",
   "execution_count": 333,
   "id": "641c1434",
   "metadata": {},
   "outputs": [
    {
     "data": {
      "text/plain": [
       "<seaborn.axisgrid.FacetGrid at 0x2cf8404c550>"
      ]
     },
     "execution_count": 333,
     "metadata": {},
     "output_type": "execute_result"
    },
    {
     "data": {
      "image/png": "[encoded data removed]",
      "text/plain": [
       "<Figure size 360x360 with 1 Axes>"
      ]
     },
     "metadata": {
      "needs_background": "light"
     },
     "output_type": "display_data"
    }
   ],
   "source": [
    "# sns.catplot(x = 'arrival_date_month', y = 'stays_in_week_nights',data = hotel_data, kind = 'bar')\n",
    "# hotel_data  customer_type  \n",
    "\n",
    "sns.catplot(data = hotel_data, x ='hotel' , y= 'lead_time' ,kind='box')"
   ]
  },
  {
   "cell_type": "markdown",
   "id": "f2f8b630",
   "metadata": {},
   "source": [
    "## which month of the year has the hieghest number of cancelled booking"
   ]
  },
  {
   "cell_type": "code",
   "execution_count": 334,
   "id": "8bc37c7d",
   "metadata": {},
   "outputs": [],
   "source": [
    "hotel_data[\"arrival_date_month\"] = hotel_data[\"arrival_date_month\"].map(date_dic)\n",
    "\n",
    "\n",
    "\n"
   ]
  },
  {
   "cell_type": "code",
   "execution_count": 335,
   "id": "cdd124d4",
   "metadata": {},
   "outputs": [
    {
     "data": {
      "text/plain": [
       "<AxesSubplot:>"
      ]
     },
     "execution_count": 335,
     "metadata": {},
     "output_type": "execute_result"
    },
    {
     "data": {
      "image/png": "[encoded data removed]",
      "text/plain": [
       "<Figure size 648x360 with 1 Axes>"
      ]
     },
     "metadata": {
      "needs_background": "light"
     },
     "output_type": "display_data"
    }
   ],
   "source": [
    "# f = hotel_data.groupby('arrival_date_month')['is_canceled'].mean().plot(kind='pie')\n",
    "# f.sort_values()\n",
    "\n",
    "con =  hotel_data['is_canceled'] == 1\n",
    "\n",
    "hotel_data[con]['arrival_date_month'].value_counts().plot(kind = 'bar')\n"
   ]
  },
  {
   "cell_type": "markdown",
   "id": "3d28bb86",
   "metadata": {},
   "source": [
    "### Which customers cancel bookings most"
   ]
  },
  {
   "cell_type": "code",
   "execution_count": 336,
   "id": "54ccf5bc",
   "metadata": {},
   "outputs": [
    {
     "data": {
      "text/plain": [
       "<AxesSubplot:>"
      ]
     },
     "execution_count": 336,
     "metadata": {},
     "output_type": "execute_result"
    },
    {
     "data": {
      "image/png": "[encoded data removed]",
      "text/plain": [
       "<Figure size 648x360 with 1 Axes>"
      ]
     },
     "metadata": {
      "needs_background": "light"
     },
     "output_type": "display_data"
    }
   ],
   "source": [
    "\n",
    "\n",
    "hotel_data[hotel_data['is_canceled'] == 1]['customer_type'].value_counts().plot(kind = 'bar')"
   ]
  },
  {
   "cell_type": "markdown",
   "id": "3981e2ec",
   "metadata": {},
   "source": [
    "The transient customers are the ones who cancel hotel bookings most"
   ]
  },
  {
   "cell_type": "markdown",
   "id": "7c2d2772",
   "metadata": {},
   "source": [
    "### Which meal do customers prefer more"
   ]
  },
  {
   "cell_type": "code",
   "execution_count": 337,
   "id": "b531676e",
   "metadata": {},
   "outputs": [
    {
     "data": {
      "text/html": [
       "<div>\n",
       "<style scoped>\n",
       "    .dataframe tbody tr th:only-of-type {\n",
       "        vertical-align: middle;\n",
       "    }\n",
       "\n",
       "    .dataframe tbody tr th {\n",
       "        vertical-align: top;\n",
       "    }\n",
       "\n",
       "    .dataframe thead th {\n",
       "        text-align: right;\n",
       "    }\n",
       "</style>\n",
       "<table border=\"1\" class=\"dataframe\">\n",
       "  <thead>\n",
       "    <tr style=\"text-align: right;\">\n",
       "      <th></th>\n",
       "      <th>value_counts</th>\n",
       "    </tr>\n",
       "  </thead>\n",
       "  <tbody>\n",
       "    <tr>\n",
       "      <th>BB</th>\n",
       "      <td>92020</td>\n",
       "    </tr>\n",
       "    <tr>\n",
       "      <th>HB</th>\n",
       "      <td>14454</td>\n",
       "    </tr>\n",
       "    <tr>\n",
       "      <th>SC</th>\n",
       "      <td>10546</td>\n",
       "    </tr>\n",
       "    <tr>\n",
       "      <th>Undefined</th>\n",
       "      <td>1169</td>\n",
       "    </tr>\n",
       "    <tr>\n",
       "      <th>FB</th>\n",
       "      <td>798</td>\n",
       "    </tr>\n",
       "  </tbody>\n",
       "</table>\n",
       "</div>"
      ],
      "text/plain": [
       "           value_counts\n",
       "BB                92020\n",
       "HB                14454\n",
       "SC                10546\n",
       "Undefined          1169\n",
       "FB                  798"
      ]
     },
     "execution_count": 337,
     "metadata": {},
     "output_type": "execute_result"
    }
   ],
   "source": [
    "hotel_data['meal'].agg(['value_counts'])"
   ]
  },
  {
   "cell_type": "code",
   "execution_count": 338,
   "id": "bdbfda7e",
   "metadata": {},
   "outputs": [
    {
     "data": {
      "image/png": "[encoded data removed]",
      "text/plain": [
       "<Figure size 720x504 with 1 Axes>"
      ]
     },
     "metadata": {},
     "output_type": "display_data"
    }
   ],
   "source": [
    "meal = [\"BB\", \"HB\", \"SC\", \"Undefined\", \"FB\"]\n",
    "values = hotel_data.meal.value_counts()\n",
    "\n",
    "plt.figure(figsize = (10, 7))\n",
    "plt.pie(values, labels = meal, explode = (0.1, 0, 0.1, 0.2, 0.4), autopct = \"%.2f%%\",startangle = 90);\n",
    "\n",
    "plt.legend()\n",
    "\n",
    "plt.show();"
   ]
  },
  {
   "cell_type": "markdown",
   "id": "d0900ef5",
   "metadata": {},
   "source": [
    "From here, we can see that a lot of customers prefer breakfast in bed(BB) while just a few prefer FB"
   ]
  },
  {
   "cell_type": "markdown",
   "id": "dde0e8fb",
   "metadata": {},
   "source": [
    "### Which year is the most busy year"
   ]
  },
  {
   "cell_type": "code",
   "execution_count": 339,
   "id": "6b362545",
   "metadata": {},
   "outputs": [
    {
     "data": {
      "text/html": [
       "<div>\n",
       "<style scoped>\n",
       "    .dataframe tbody tr th:only-of-type {\n",
       "        vertical-align: middle;\n",
       "    }\n",
       "\n",
       "    .dataframe tbody tr th {\n",
       "        vertical-align: top;\n",
       "    }\n",
       "\n",
       "    .dataframe thead th {\n",
       "        text-align: right;\n",
       "    }\n",
       "</style>\n",
       "<table border=\"1\" class=\"dataframe\">\n",
       "  <thead>\n",
       "    <tr style=\"text-align: right;\">\n",
       "      <th></th>\n",
       "      <th>value_counts</th>\n",
       "    </tr>\n",
       "  </thead>\n",
       "  <tbody>\n",
       "    <tr>\n",
       "      <th>2016</th>\n",
       "      <td>56478</td>\n",
       "    </tr>\n",
       "    <tr>\n",
       "      <th>2017</th>\n",
       "      <td>40557</td>\n",
       "    </tr>\n",
       "    <tr>\n",
       "      <th>2015</th>\n",
       "      <td>21952</td>\n",
       "    </tr>\n",
       "  </tbody>\n",
       "</table>\n",
       "</div>"
      ],
      "text/plain": [
       "      value_counts\n",
       "2016         56478\n",
       "2017         40557\n",
       "2015         21952"
      ]
     },
     "execution_count": 339,
     "metadata": {},
     "output_type": "execute_result"
    }
   ],
   "source": [
    "hotel_data['arrival_date_year'].agg(['value_counts'])"
   ]
  },
  {
   "cell_type": "code",
   "execution_count": 340,
   "id": "27675a17",
   "metadata": {},
   "outputs": [
    {
     "data": {
      "image/png": "[encoded data removed]",
      "text/plain": [
       "<Figure size 648x360 with 1 Axes>"
      ]
     },
     "metadata": {},
     "output_type": "display_data"
    }
   ],
   "source": [
    "year=['2016','2017','2018']\n",
    "vals = hotel_data['arrival_date_year'].value_counts()\n",
    "\n",
    "plt.title('The busiest year')\n",
    "plt.pie(vals,labels = year,autopct = \"%.2f%%\" );"
   ]
  },
  {
   "cell_type": "markdown",
   "id": "f4235919",
   "metadata": {},
   "source": [
    "2016 is the most busiest year"
   ]
  },
  {
   "cell_type": "markdown",
   "id": "38607307",
   "metadata": {},
   "source": [
    "### Which country do the most frequent visitors come from"
   ]
  },
  {
   "cell_type": "code",
   "execution_count": 341,
   "id": "721d85c6",
   "metadata": {},
   "outputs": [
    {
     "data": {
      "image/png": "[encoded data removed]",
      "text/plain": [
       "<Figure size 648x360 with 1 Axes>"
      ]
     },
     "metadata": {
      "needs_background": "light"
     },
     "output_type": "display_data"
    }
   ],
   "source": [
    "fre_country = hotel_data[hotel_data['is_repeated_guest'] == 1]['country'].value_counts().reset_index()\n",
    "\n",
    "#Select countries with visitors more than 20\n",
    "fre_country = fre_country[fre_country['country'] > 20 ].set_index('index')\n",
    "\n",
    "plt.title('The countries of the most frequent visitors')\n",
    "plt.bar(height= fre_country.country, x = fre_country.index)\n",
    "plt.xlabel('Countries')\n",
    "plt.ylabel('Number of visitors')\n",
    "plt.show();\n"
   ]
  },
  {
   "cell_type": "markdown",
   "id": "8692863b",
   "metadata": {},
   "source": [
    "A lot of the hotels visitor come from PRT"
   ]
  },
  {
   "cell_type": "markdown",
   "id": "fb6ed8d6",
   "metadata": {},
   "source": [
    "### Which market segment has the heighest stay in weekend night"
   ]
  },
  {
   "cell_type": "code",
   "execution_count": 342,
   "id": "f32661df",
   "metadata": {},
   "outputs": [
    {
     "data": {
      "image/png": "[encoded data removed]",
      "text/plain": [
       "<Figure size 648x360 with 1 Axes>"
      ]
     },
     "metadata": {
      "needs_background": "light"
     },
     "output_type": "display_data"
    }
   ],
   "source": [
    "segment =  hotel_data.groupby('market_segment')['stays_in_weekend_nights'].count().sort_values(ascending = False)\n",
    "\n",
    "plt.title('Market segment with the hieghest weekend night stay')\n",
    "plt.bar(height= segment, x = segment.index)\n",
    "plt.xlabel('Market segment')\n",
    "plt.ylabel('Count of weekend night stay')\n",
    "plt.xticks(rotation = 30)\n",
    "plt.show();\n"
   ]
  },
  {
   "cell_type": "markdown",
   "id": "4d1c76bf",
   "metadata": {},
   "source": [
    "### What type of meals do the repeated guests enjoy most"
   ]
  },
  {
   "cell_type": "code",
   "execution_count": 343,
   "id": "a2cae87a",
   "metadata": {},
   "outputs": [
    {
     "data": {
      "image/png": "[encoded data removed]",
      "text/plain": [
       "<Figure size 648x360 with 1 Axes>"
      ]
     },
     "metadata": {
      "needs_background": "light"
     },
     "output_type": "display_data"
    }
   ],
   "source": [
    "meals = hotel_data[hotel_data['is_repeated_guest'] == 1]['meal'].value_counts()\n",
    "meal_label = [\"BB\", \"HB\", \"SC\", \"Undefined\", \"FB\"]\n",
    "\n",
    "\n",
    "plt.bar(x = meal_label, height=meals )\n",
    "\n",
    "# plt.pie(meals, labels=meal_label ,autopct = \"%.2f%%\", explode = (0.1,0.2,0.3,0.4,1))\n",
    "plt.show()"
   ]
  },
  {
   "cell_type": "markdown",
   "id": "3fcebf43",
   "metadata": {},
   "source": [
    "## Modelling"
   ]
  },
  {
   "cell_type": "code",
   "execution_count": 344,
   "id": "bef236b2",
   "metadata": {},
   "outputs": [],
   "source": [
    "# to convert categorical variables into numeric\n",
    "hotel_dummies= pd.get_dummies(hotel_data)"
   ]
  },
  {
   "cell_type": "code",
   "execution_count": null,
   "id": "742983e0",
   "metadata": {},
   "outputs": [],
   "source": [
    "\n"
   ]
  },
  {
   "cell_type": "code",
   "execution_count": 345,
   "id": "1fef7c54",
   "metadata": {},
   "outputs": [],
   "source": [
    "X= hotel_dummies.drop(columns= \"is_canceled\")\n",
    "Y= hotel_dummies[\"is_canceled\"]\n",
    "\n"
   ]
  },
  {
   "cell_type": "code",
   "execution_count": 346,
   "id": "7a0527d8",
   "metadata": {},
   "outputs": [],
   "source": [
    "from sklearn.preprocessing import LabelEncoder, StandardScaler, MinMaxScaler\n",
    "\n",
    "# to standardise the data\n",
    "\n",
    "scaler = StandardScaler()\n",
    "x= scaler.fit_transform(X)\n",
    "X = pd.DataFrame(x,columns= X.columns)\n"
   ]
  },
  {
   "cell_type": "code",
   "execution_count": 347,
   "id": "700b0495",
   "metadata": {},
   "outputs": [],
   "source": [
    "from sklearn.linear_model import LogisticRegression\n",
    "\n",
    "from sklearn.model_selection import train_test_split\n",
    "from sklearn.metrics import confusion_matrix, f1_score,classification_report,roc_auc_score"
   ]
  },
  {
   "cell_type": "code",
   "execution_count": 348,
   "id": "77337462",
   "metadata": {},
   "outputs": [
    {
     "data": {
      "text/plain": [
       "array([1, 0, 0, ..., 0, 0, 1], dtype=int64)"
      ]
     },
     "execution_count": 348,
     "metadata": {},
     "output_type": "execute_result"
    }
   ],
   "source": [
    "train_x, val_x, train_y, val_y= train_test_split(X,Y, test_size= 0.2, random_state= 100)\n",
    "lr= LogisticRegression()\n",
    "lr.fit(train_x,train_y)\n",
    "\n",
    "test_pred= lr.predict(val_x)\n",
    "\n",
    "test_pred"
   ]
  },
  {
   "cell_type": "code",
   "execution_count": 349,
   "id": "0a307028",
   "metadata": {},
   "outputs": [
    {
     "name": "stdout",
     "output_type": "stream",
     "text": [
      "Confusion matrix: [[14943     0]\n",
      " [    0  8855]]\n"
     ]
    }
   ],
   "source": [
    "print(\"Confusion matrix:\", confusion_matrix(test_pred,val_y))\n",
    "\n",
    "\n"
   ]
  },
  {
   "cell_type": "code",
   "execution_count": 350,
   "id": "cbeb6e4d",
   "metadata": {},
   "outputs": [
    {
     "name": "stdout",
     "output_type": "stream",
     "text": [
      "Accuracy: 1.0\n"
     ]
    }
   ],
   "source": [
    "print(\"Accuracy:\", f1_score(test_pred,val_y))"
   ]
  },
  {
   "cell_type": "code",
   "execution_count": null,
   "id": "ddfc1bfe",
   "metadata": {},
   "outputs": [],
   "source": []
  }
 ],
 "metadata": {
  "kernelspec": {
   "display_name": "Python 3 (ipykernel)",
   "language": "python",
   "name": "python3"
  },
  "language_info": {
   "codemirror_mode": {
    "name": "ipython",
    "version": 3
   },
   "file_extension": ".py",
   "mimetype": "text/x-python",
   "name": "python",
   "nbconvert_exporter": "python",
   "pygments_lexer": "ipython3",
   "version": "3.9.7"
  }
 },
 "nbformat": 4,
 "nbformat_minor": 5
}
